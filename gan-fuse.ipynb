{
 "cells": [
  {
   "cell_type": "code",
   "execution_count": 1,
   "id": "eb655c2a",
   "metadata": {
    "_cell_guid": "b1076dfc-b9ad-4769-8c92-a6c4dae69d19",
    "_uuid": "8f2839f25d086af736a60e9eeb907d3b93b6e0e5",
    "execution": {
     "iopub.execute_input": "2024-03-12T20:52:00.189710Z",
     "iopub.status.busy": "2024-03-12T20:52:00.189415Z",
     "iopub.status.idle": "2024-03-12T20:52:02.728949Z",
     "shell.execute_reply": "2024-03-12T20:52:02.728101Z"
    },
    "papermill": {
     "duration": 2.545472,
     "end_time": "2024-03-12T20:52:02.731115",
     "exception": false,
     "start_time": "2024-03-12T20:52:00.185643",
     "status": "completed"
    },
    "tags": []
   },
   "outputs": [],
   "source": [
    "import torch\n",
    "import torch.nn as nn"
   ]
  },
  {
   "cell_type": "code",
   "execution_count": 2,
   "id": "850d6193",
   "metadata": {
    "execution": {
     "iopub.execute_input": "2024-03-12T20:52:02.736510Z",
     "iopub.status.busy": "2024-03-12T20:52:02.736192Z",
     "iopub.status.idle": "2024-03-12T20:52:02.745769Z",
     "shell.execute_reply": "2024-03-12T20:52:02.744934Z"
    },
    "papermill": {
     "duration": 0.014066,
     "end_time": "2024-03-12T20:52:02.747454",
     "exception": false,
     "start_time": "2024-03-12T20:52:02.733388",
     "status": "completed"
    },
    "tags": []
   },
   "outputs": [],
   "source": [
    "class Generator(nn.Module):\n",
    "    \n",
    "    def __init__(self):\n",
    "        super(Generator, self).__init__()\n",
    "        \n",
    "        self.encoder1 = nn.Sequential(\n",
    "            nn.Conv2d(1, 64, 3, stride=1, padding=1),\n",
    "            nn.BatchNorm2d(64),\n",
    "            nn.ReLU(True),\n",
    "            nn.Conv2d(64, 128, 3, stride=2, padding=1),\n",
    "            nn.BatchNorm2d(128),\n",
    "            nn.ReLU(True),\n",
    "            nn.Conv2d(128, 256, 3, stride=2, padding=1),\n",
    "            nn.BatchNorm2d(256),\n",
    "            nn.ReLU(True),\n",
    "        )\n",
    "        \n",
    "        self.self_attention1 = SelfAttention(256)\n",
    "\n",
    "        self.encoder2 = nn.Sequential(\n",
    "            nn.Conv2d(256, 512, 3, stride=2, padding=1),\n",
    "            nn.BatchNorm2d(512),\n",
    "            nn.ReLU(True),\n",
    "            nn.Conv2d(512, 1024, 3, stride=2, padding=1),\n",
    "            nn.BatchNorm2d(1024),\n",
    "            nn.ReLU(True)\n",
    "        )\n",
    "        \n",
    "        self.self_attention2 = SelfAttention(1024)\n",
    "        \n",
    "        self.decoder = nn.Sequential(\n",
    "            nn.ConvTranspose2d(1024, 512, 4, stride=2, padding=1),\n",
    "            nn.BatchNorm2d(512),\n",
    "            nn.ReLU(True),\n",
    "            nn.ConvTranspose2d(512, 256, 4, stride=2, padding=1),\n",
    "            nn.BatchNorm2d(256),\n",
    "            nn.ReLU(True),\n",
    "            nn.ConvTranspose2d(256, 128, 4, stride=2, padding=1),\n",
    "            nn.BatchNorm2d(128),\n",
    "            nn.ReLU(True),\n",
    "            nn.ConvTranspose2d(128, 64, 4, stride=2, padding=1),\n",
    "            nn.BatchNorm2d(64),\n",
    "            nn.ReLU(True),\n",
    "            nn.ConvTranspose2d(64, 3, 3, stride=1, padding=1),\n",
    "            nn.Tanh()\n",
    "        )\n",
    "        \n",
    "    def forward(self, x):\n",
    "        x = self.encoder1(x)\n",
    "        x = self.self_attention1(x)\n",
    "        x = self.encoder2(x)\n",
    "        x = self.self_attention2(x)\n",
    "        x = self.decoder(x)   # After the decoder, the size has been upsampled back to torch.Size([8, 3, 240, 320])\n",
    "        return x\n"
   ]
  },
  {
   "cell_type": "code",
   "execution_count": 3,
   "id": "b47d36c1",
   "metadata": {
    "execution": {
     "iopub.execute_input": "2024-03-12T20:52:02.752361Z",
     "iopub.status.busy": "2024-03-12T20:52:02.752133Z",
     "iopub.status.idle": "2024-03-12T20:52:02.760647Z",
     "shell.execute_reply": "2024-03-12T20:52:02.759956Z"
    },
    "papermill": {
     "duration": 0.012823,
     "end_time": "2024-03-12T20:52:02.762251",
     "exception": false,
     "start_time": "2024-03-12T20:52:02.749428",
     "status": "completed"
    },
    "tags": []
   },
   "outputs": [],
   "source": [
    "class Discriminator(nn.Module):\n",
    "    def __init__(self):\n",
    "        super(Discriminator, self).__init__()\n",
    "        self.conv1 = nn.Sequential(\n",
    "            nn.Conv2d(3, 32, 4, stride=2, padding=1),\n",
    "            nn.BatchNorm2d(32),  # Originally, this wasn't included?\n",
    "            nn.LeakyReLU(0.2, inplace=True),\n",
    "            \n",
    "            nn.Conv2d(32, 64, 4, stride=2, padding=1),\n",
    "            nn.BatchNorm2d(64),\n",
    "            nn.LeakyReLU(0.2, inplace=True), \n",
    "        )\n",
    "        self.conv2 = nn.Sequential(\n",
    "            nn.Conv2d(64, 128, 4, stride=2, padding=1),\n",
    "            nn.BatchNorm2d(128),\n",
    "            nn.LeakyReLU(0.2, inplace=True),\n",
    "            \n",
    "            nn.Conv2d(128, 128, 4, stride=2, padding=1),\n",
    "            nn.BatchNorm2d(128),\n",
    "            nn.LeakyReLU(0.2, inplace=True),\n",
    "        )\n",
    "        self.conv3 = nn.Sequential(\n",
    "            nn.Conv2d(128, 256, 4, stride=2, padding=1),\n",
    "            nn.BatchNorm2d(256),\n",
    "            nn.LeakyReLU(0.2, inplace=True),\n",
    "            \n",
    "            nn.Conv2d(256, 16, 4, stride=2, padding=1),\n",
    "            nn.BatchNorm2d(16),\n",
    "            nn.LeakyReLU(0.2, inplace=True),\n",
    "        )\n",
    "        \n",
    "        self.self_attention1 = SelfAttention(64)\n",
    "        self.self_attention2 = SelfAttention(128)\n",
    "        self.self_attention3 = SelfAttention(16)\n",
    "        \n",
    "        self.liner = nn.Sequential(\n",
    "            nn.Linear(16*2*4, 1),   #1*12*17  1*4*7\n",
    "            #nn.ReLU(True),\n",
    "            \n",
    "            #nn.Linear(16, 1),\n",
    "            nn.Sigmoid()\n",
    "        )\n",
    "           \n",
    "    def forward(self, x):\n",
    "        x = self.conv1(x)\n",
    "        x = self.self_attention1(x)\n",
    "        x = self.conv2(x)\n",
    "        x = self.self_attention2(x)\n",
    "        x = self.conv3(x)\n",
    "        #x = self.self_attention3(x)\n",
    "        x = x.view(-1,16*2*4)\n",
    "        x = self.liner(x)\n",
    "        return x\n"
   ]
  },
  {
   "cell_type": "code",
   "execution_count": 4,
   "id": "9aa6e4eb",
   "metadata": {
    "execution": {
     "iopub.execute_input": "2024-03-12T20:52:02.767245Z",
     "iopub.status.busy": "2024-03-12T20:52:02.767031Z",
     "iopub.status.idle": "2024-03-12T20:52:02.771232Z",
     "shell.execute_reply": "2024-03-12T20:52:02.770504Z"
    },
    "papermill": {
     "duration": 0.008531,
     "end_time": "2024-03-12T20:52:02.772826",
     "exception": false,
     "start_time": "2024-03-12T20:52:02.764295",
     "status": "completed"
    },
    "tags": []
   },
   "outputs": [],
   "source": [
    "class FeatureMatchingLoss(nn.Module):\n",
    "    def __init__(self):\n",
    "        super(FeatureMatchingLoss, self).__init__()\n",
    "\n",
    "    def forward(self, real_features, fake_features):\n",
    "        loss = 0.0\n",
    "        for real, fake in zip(real_features, fake_features):\n",
    "            loss += torch.mean(torch.abs(real - fake))\n",
    "        return loss\n",
    "    \n",
    "   "
   ]
  },
  {
   "cell_type": "code",
   "execution_count": 5,
   "id": "c5c5fc5a",
   "metadata": {
    "execution": {
     "iopub.execute_input": "2024-03-12T20:52:02.777843Z",
     "iopub.status.busy": "2024-03-12T20:52:02.777582Z",
     "iopub.status.idle": "2024-03-12T20:52:02.784484Z",
     "shell.execute_reply": "2024-03-12T20:52:02.783796Z"
    },
    "papermill": {
     "duration": 0.011183,
     "end_time": "2024-03-12T20:52:02.786006",
     "exception": false,
     "start_time": "2024-03-12T20:52:02.774823",
     "status": "completed"
    },
    "tags": []
   },
   "outputs": [],
   "source": [
    "class SelfAttention(nn.Module):\n",
    "    def __init__(self, in_channels):\n",
    "        super(SelfAttention, self).__init__()\n",
    "        self.query_conv = nn.Conv2d(in_channels, in_channels // 8, kernel_size=1)   # Floor division//\n",
    "        self.key_conv = nn.Conv2d(in_channels, in_channels // 8, kernel_size=1)\n",
    "        self.value_conv = nn.Conv2d(in_channels, in_channels, kernel_size=1)\n",
    "        self.gamma = nn.Parameter(torch.zeros(1))  # Weight scaling of the output of the self-attention module\n",
    "\n",
    "    def forward(self, x):\n",
    "        batch_size, channels, height, width = x.size()\n",
    "        \n",
    "        proj_query = self.query_conv(x).view(batch_size, -1, height * width).permute(0, 2, 1)  # for点积，交换张量的第二、第三个维度\n",
    "        proj_key = self.key_conv(x).view(batch_size, -1, height * width)\n",
    "        \n",
    "        energy = torch.bmm(proj_query, proj_key)  # dot product\n",
    "        attention = torch.softmax(energy, dim=-1)  # Mapping to obtain weights between 0 and 1\n",
    "        \n",
    "        proj_value = self.value_conv(x).view(batch_size, -1, height * width)\n",
    "        out = torch.bmm(proj_value, attention.permute(0, 2, 1))\n",
    "        \n",
    "        out = out.view(batch_size, channels, height, width)  # Back to the input size\n",
    "\n",
    "        out = self.gamma * out + x\n",
    "\n",
    "        return out"
   ]
  },
  {
   "cell_type": "code",
   "execution_count": 6,
   "id": "c202e6fc",
   "metadata": {
    "execution": {
     "iopub.execute_input": "2024-03-12T20:52:02.791049Z",
     "iopub.status.busy": "2024-03-12T20:52:02.790827Z",
     "iopub.status.idle": "2024-03-12T20:52:05.276171Z",
     "shell.execute_reply": "2024-03-12T20:52:05.275460Z"
    },
    "papermill": {
     "duration": 2.489932,
     "end_time": "2024-03-12T20:52:05.277970",
     "exception": false,
     "start_time": "2024-03-12T20:52:02.788038",
     "status": "completed"
    },
    "tags": []
   },
   "outputs": [],
   "source": [
    "from torchvision import transforms\n",
    "from torch.utils.data import Dataset\n",
    "from PIL import Image\n",
    "import os\n",
    "\n",
    "\n",
    "# Dataset\n",
    "class FusionDataset(Dataset):   # It includes an infrared image (inf) and a visible light image (vis)\n",
    "    def __init__(self, root_dir):\n",
    "        self.root_dir = root_dir\n",
    "        self.inf_dir = os.path.join(self.root_dir, 'infrared')  # infrared\n",
    "        self.vis_dir = os.path.join(self.root_dir, 'visible')  # visible\n",
    "        self.inf_files = sorted(os.listdir(self.inf_dir))\n",
    "        self.vis_files = sorted(os.listdir(self.vis_dir))\n",
    "        self.transform = transforms.Compose([      # Transformation function\n",
    "            # transforms.Resize([240,320]),\n",
    "            transforms.CenterCrop([128,256]),  # Crop from the center, make it smaller\n",
    "            transforms.ToTensor(),      # Convert image data from integer type with pixel values (0-255) to floating-point type tensor (0.0-1.0), and reshape the channel from the format HWC to CHW. Normalize the image\n",
    "            transforms.Normalize((0.5,), (0.5,))  # Normalize to the range of [-1,1], image = (image - mean) / std\n",
    "        ])\n",
    "        \n",
    "    def __len__(self):   # Return the dataset size (number of images)\n",
    "        return len(self.inf_files)\n",
    "        \n",
    "    def __getitem__(self, idx):\n",
    "        inf_path = os.path.join(self.inf_dir, self.inf_files[idx])\n",
    "        vis_path = os.path.join(self.vis_dir, self.vis_files[idx])\n",
    "        inf_image = Image.open(inf_path).convert('L')  # Convert to single-channel grayscale image (optional)\n",
    "        vis_image = Image.open(vis_path)\n",
    "        inf_tensor = self.transform(inf_image)\n",
    "        vis_tensor = self.transform(vis_image)\n",
    "        return inf_tensor, vis_tensor"
   ]
  },
  {
   "cell_type": "code",
   "execution_count": null,
   "id": "6a4bb507",
   "metadata": {
    "papermill": {
     "duration": 0.001939,
     "end_time": "2024-03-12T20:52:05.282259",
     "exception": false,
     "start_time": "2024-03-12T20:52:05.280320",
     "status": "completed"
    },
    "tags": []
   },
   "outputs": [],
   "source": []
  }
 ],
 "metadata": {
  "kaggle": {
   "accelerator": "none",
   "dataSources": [],
   "dockerImageVersionId": 30664,
   "isGpuEnabled": false,
   "isInternetEnabled": true,
   "language": "python",
   "sourceType": "notebook"
  },
  "kernelspec": {
   "display_name": "Python 3",
   "language": "python",
   "name": "python3"
  },
  "language_info": {
   "codemirror_mode": {
    "name": "ipython",
    "version": 3
   },
   "file_extension": ".py",
   "mimetype": "text/x-python",
   "name": "python",
   "nbconvert_exporter": "python",
   "pygments_lexer": "ipython3",
   "version": "3.10.13"
  },
  "papermill": {
   "default_parameters": {},
   "duration": 8.127119,
   "end_time": "2024-03-12T20:52:06.202573",
   "environment_variables": {},
   "exception": null,
   "input_path": "__notebook__.ipynb",
   "output_path": "__notebook__.ipynb",
   "parameters": {},
   "start_time": "2024-03-12T20:51:58.075454",
   "version": "2.5.0"
  }
 },
 "nbformat": 4,
 "nbformat_minor": 5
}
